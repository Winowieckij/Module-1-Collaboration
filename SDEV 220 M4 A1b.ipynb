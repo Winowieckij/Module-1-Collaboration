{
 "cells": [
  {
   "cell_type": "code",
   "execution_count": 1,
   "id": "8eeb4c7c-4e2b-467c-a2d4-25fa68eebf5c",
   "metadata": {},
   "outputs": [
    {
     "name": "stdout",
     "output_type": "stream",
     "text": [
      "Writing DatabaseCreation.py\n"
     ]
    }
   ],
   "source": [
    "%%writefile DatabaseCreation.py\n",
    "\n",
    "import sqlite3\n",
    "import csv\n",
    "import os # Import os module to check for file existence and remove if needed\n",
    "\n",
    "# --- 1. Database Creation  ---\n",
    "# Define the database file name\n",
    "DB_FILE = 'books.db'\n",
    "CSV_FILE = 'books2.csv'\n",
    "\n",
    "# Remove existing database file to start fresh, if it exists\n",
    "if os.path.exists(DB_FILE):\n",
    "    os.remove(DB_FILE)\n",
    "    print(f\"Removed existing database file: {DB_FILE}\")\n",
    "\n",
    "# Connect to the SQLite database. If books.db doesn't exist, it will be created.\n",
    "conn = sqlite3.connect(DB_FILE)\n",
    "curs = conn.cursor()\n",
    "\n",
    "# Execute the SQL command to create the 'book' table with specified fields.\n",
    "# The fields are: title (text), author (text), and year (integer).\n",
    "curs.execute('''\n",
    "    CREATE TABLE book (\n",
    "        title TEXT,\n",
    "        author TEXT,\n",
    "        year INTEGER\n",
    "    )\n",
    "''')\n",
    "print(f\"Database '{DB_FILE}' and table 'book' created successfully.\")\n",
    "\n",
    "# --- 2. Create the books2.csv file (from Things to Do 16.3) ---\n",
    "# Data for books2.csv as specified in \"things to do 16.3\" [3]\n",
    "books2_csv_content = '''title,author,year\n",
    "The Weirdstone of Brisingamen,Alan Garner,1960\n",
    "Perdido Street Station,China Miéville,2000\n",
    "Thud!,Terry Pratchett,2005\n",
    "The Spellman Files,Lisa Lutz,2007\n",
    "Small Gods,Terry Pratchett,1992\n",
    "'''\n",
    "\n",
    "# Write the content to books2.csv\n",
    "with open(CSV_FILE, 'wt', encoding='utf-8') as outfile:\n",
    "    outfile.write(books2_csv_content)\n",
    "print(f\"Created CSV file: {CSV_FILE}\")\n",
    "\n",
    "# --- 3. Populate the 'book' table from books2.csv (as in Things to Do 16.5) ---\n",
    "# SQL INSERT statement with placeholders for title, author, and year [2]\n",
    "ins_str = 'INSERT INTO book (title, author, year) VALUES (?, ?, ?)'\n",
    "\n",
    "# Open books2.csv and read its data using DictReader [1, 4]\n",
    "with open(CSV_FILE, 'rt', encoding='utf-8') as infile:\n",
    "    # DictReader automatically uses the first row as field names [5]\n",
    "    books = csv.DictReader(infile)\n",
    "    for book_row in books:\n",
    "        # Execute the INSERT statement for each row, extracting values by column name [4]\n",
    "        curs.execute(ins_str, (book_row['title'], book_row['author'], int(book_row['year'])))\n",
    "\n",
    "# Commit the changes to the database to save the inserted data [2, 4]\n",
    "conn.commit()\n",
    "print(f\"Data from '{CSV_FILE}' inserted into 'book' table successfully.\")\n",
    "\n",
    "# --- Optional: Verify the data insertion (as in Things to Do 16.6 and 16.7) ---\n",
    "print(\"\\nVerifying data in 'book' table:\")\n",
    "print(\"Titles in alphabetical order:\")\n",
    "for (title,) in curs.execute('SELECT title FROM book ORDER BY title ASC'):\n",
    "    print(f\"- {title}\")\n",
    "\n",
    "print(\"\\nAll columns in order of publication (year):\")\n",
    "for title, author, year in curs.execute('SELECT title, author, year FROM book ORDER BY year ASC'):\n",
    "    print(f\"- {year}: {title} — {author}\")\n",
    "\n",
    "# Close the cursor and the database connection\n",
    "curs.close()\n",
    "conn.close()\n",
    "print(\"\\nDatabase connection closed.\")"
   ]
  },
  {
   "cell_type": "code",
   "execution_count": 2,
   "id": "effb1630-e4eb-4fd0-bb63-9c4d23ff076f",
   "metadata": {},
   "outputs": [
    {
     "name": "stdout",
     "output_type": "stream",
     "text": [
      "Database 'books.db' and table 'book' created successfully.\n",
      "Created CSV file: books2.csv\n",
      "Data from 'books2.csv' inserted into 'book' table successfully.\n",
      "\n",
      "Verifying data in 'book' table:\n",
      "Titles in alphabetical order:\n",
      "- Perdido Street Station\n",
      "- Small Gods\n",
      "- The Spellman Files\n",
      "- The Weirdstone of Brisingamen\n",
      "- Thud!\n",
      "\n",
      "All columns in order of publication (year):\n",
      "- 1960: The Weirdstone of Brisingamen — Alan Garner\n",
      "- 1992: Small Gods — Terry Pratchett\n",
      "- 2000: Perdido Street Station — China Miéville\n",
      "- 2005: Thud! — Terry Pratchett\n",
      "- 2007: The Spellman Files — Lisa Lutz\n",
      "\n",
      "Database connection closed.\n"
     ]
    }
   ],
   "source": [
    "%run DatabaseCreation.py"
   ]
  },
  {
   "cell_type": "code",
   "execution_count": 3,
   "id": "b2380fb1-15de-4c8b-a405-380de1c31b9a",
   "metadata": {},
   "outputs": [
    {
     "name": "stdout",
     "output_type": "stream",
     "text": [
      "Perdido Street Station\n",
      "Small Gods\n",
      "The Spellman Files\n",
      "The Weirdstone of Brisingamen\n",
      "Thud!\n"
     ]
    }
   ],
   "source": [
    "from sqlalchemy import create_engine, text\n",
    "\n",
    "engine = create_engine(\"sqlite:///books.db\", echo=False)\n",
    "\n",
    "with engine.connect() as conn:\n",
    "    result = conn.execute(text(\"SELECT title FROM book ORDER BY title ASC;\"))\n",
    "    for row in result:\n",
    "        print(row.title)\n"
   ]
  },
  {
   "cell_type": "code",
   "execution_count": null,
   "id": "7ec7d599-41fb-4631-9456-4c5e8ca325e5",
   "metadata": {},
   "outputs": [],
   "source": []
  }
 ],
 "metadata": {
  "kernelspec": {
   "display_name": "Python [conda env:base] *",
   "language": "python",
   "name": "conda-base-py"
  },
  "language_info": {
   "codemirror_mode": {
    "name": "ipython",
    "version": 3
   },
   "file_extension": ".py",
   "mimetype": "text/x-python",
   "name": "python",
   "nbconvert_exporter": "python",
   "pygments_lexer": "ipython3",
   "version": "3.13.5"
  }
 },
 "nbformat": 4,
 "nbformat_minor": 5
}
