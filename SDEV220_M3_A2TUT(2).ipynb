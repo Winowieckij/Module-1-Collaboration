{
 "cells": [
  {
   "cell_type": "code",
   "execution_count": 3,
   "id": "3850aa49-5b0a-4736-81a4-4dcc528f1f81",
   "metadata": {},
   "outputs": [],
   "source": [
    "class Solution:\n",
    "    def binarysearch(self, arr, k):\n",
    "        low, high = 0, len(arr) - 1\n",
    "        result = -1  \n",
    "\n",
    "        while low <= high:\n",
    "            mid = (low + high) // 2\n",
    "\n",
    "            if arr[mid] == k:\n",
    "                result = mid\n",
    "                high = mid - 1   \n",
    "            elif arr[mid] < k:\n",
    "                low = mid + 1\n",
    "            else:\n",
    "                high = mid - 1\n",
    "\n",
    "        return result\n"
   ]
  },
  {
   "cell_type": "code",
   "execution_count": null,
   "id": "4ce7d0c5-5f21-4de9-aa92-fddefaf4000c",
   "metadata": {},
   "outputs": [],
   "source": []
  },
  {
   "cell_type": "code",
   "execution_count": null,
   "id": "79579ab0-1fe4-4a8a-b3f1-1a95818ca55b",
   "metadata": {},
   "outputs": [],
   "source": []
  }
 ],
 "metadata": {
  "kernelspec": {
   "display_name": "Python [conda env:base] *",
   "language": "python",
   "name": "conda-base-py"
  },
  "language_info": {
   "codemirror_mode": {
    "name": "ipython",
    "version": 3
   },
   "file_extension": ".py",
   "mimetype": "text/x-python",
   "name": "python",
   "nbconvert_exporter": "python",
   "pygments_lexer": "ipython3",
   "version": "3.13.5"
  }
 },
 "nbformat": 4,
 "nbformat_minor": 5
}
