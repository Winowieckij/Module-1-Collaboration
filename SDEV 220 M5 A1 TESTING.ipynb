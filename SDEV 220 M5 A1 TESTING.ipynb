{
 "cells": [
  {
   "cell_type": "code",
   "execution_count": null,
   "id": "cd0b2ac0-6c48-484f-a3c7-a899dbd46ab5",
   "metadata": {},
   "outputs": [],
   "source": [
    "def sum(numbers):\n",
    "    return __builtins__['sum'](numbers)\n"
   ]
  },
  {
   "cell_type": "code",
   "execution_count": null,
   "id": "466c658f-6cdc-49a0-8acd-b5e23e8bb902",
   "metadata": {},
   "outputs": [],
   "source": [
    "import unittest\n",
    "from my_sum import sum\n",
    "\n",
    "class TestSum(unittest.TestCase):\n",
    "    def test_list_int(self):\n",
    "        data = [1, 2, 3]\n",
    "        result = sum(data)\n",
    "        self.assertEqual(result, 6)\n",
    "\n",
    "if __name__ == \"__main__\":\n",
    "    unittest.main()\n"
   ]
  }
 ],
 "metadata": {
  "kernelspec": {
   "display_name": "Python [conda env:base] *",
   "language": "python",
   "name": "conda-base-py"
  },
  "language_info": {
   "codemirror_mode": {
    "name": "ipython",
    "version": 3
   },
   "file_extension": ".py",
   "mimetype": "text/x-python",
   "name": "python",
   "nbconvert_exporter": "python",
   "pygments_lexer": "ipython3",
   "version": "3.13.5"
  }
 },
 "nbformat": 4,
 "nbformat_minor": 5
}
