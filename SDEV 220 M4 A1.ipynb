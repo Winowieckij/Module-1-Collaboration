{
 "cells": [
  {
   "cell_type": "code",
   "execution_count": null,
   "id": "c1a28821-846a-431b-9a2d-ceb66fdde2e1",
   "metadata": {},
   "outputs": [],
   "source": [
    "def hours():\n",
    "    print(\"Open 9-5 daily\")"
   ]
  },
  {
   "cell_type": "code",
   "execution_count": 6,
   "id": "47883d29-178b-49bd-ab23-517069ad2601",
   "metadata": {
    "scrolled": true
   },
   "outputs": [
    {
     "name": "stdout",
     "output_type": "stream",
     "text": [
      "Open 9-5 daily\n"
     ]
    }
   ],
   "source": [
    "import zoo\n",
    "zoo.hours()"
   ]
  },
  {
   "cell_type": "code",
   "execution_count": 7,
   "id": "fb810092-da2f-48c3-91d8-b60d62ba4c9a",
   "metadata": {},
   "outputs": [
    {
     "name": "stdout",
     "output_type": "stream",
     "text": [
      "Open 9-5 daily\n"
     ]
    }
   ],
   "source": [
    "import zoo as menagerie \n",
    "menagerie.hours()"
   ]
  },
  {
   "cell_type": "code",
   "execution_count": null,
   "id": "0111721a-9a33-4cc3-8f59-e6d97c989d1e",
   "metadata": {},
   "outputs": [],
   "source": []
  }
 ],
 "metadata": {
  "kernelspec": {
   "display_name": "Python [conda env:base] *",
   "language": "python",
   "name": "conda-base-py"
  },
  "language_info": {
   "codemirror_mode": {
    "name": "ipython",
    "version": 3
   },
   "file_extension": ".py",
   "mimetype": "text/x-python",
   "name": "python",
   "nbconvert_exporter": "python",
   "pygments_lexer": "ipython3",
   "version": "3.13.5"
  }
 },
 "nbformat": 4,
 "nbformat_minor": 5
}
