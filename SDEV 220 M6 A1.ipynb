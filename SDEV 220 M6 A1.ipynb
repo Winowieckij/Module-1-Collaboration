{
 "cells": [
  {
   "cell_type": "code",
   "execution_count": 2,
   "id": "27b27a5f-d392-4722-a757-01b984e68d55",
   "metadata": {},
   "outputs": [
    {
     "name": "stdout",
     "output_type": "stream",
     "text": [
      "Today's date written to today.txt: 2025-10-05\n",
      "Content of today.txt: 2025-10-05\n"
     ]
    }
   ],
   "source": [
    "from datetime import date\n",
    "\n",
    "today = date.today()\n",
    "\n",
    "with open(\"today.txt\", \"w\") as file:\n",
    "    file.write(str(today))\n",
    "\n",
    "print(\"Today's date written to today.txt:\", today)\n",
    "\n",
    "with open(\"today.txt\", \"r\") as file:\n",
    "    today_string = file.read()\n",
    "\n",
    "print(\"Content of today.txt:\", today_string)\n",
    "\n"
   ]
  },
  {
   "cell_type": "code",
   "execution_count": 6,
   "id": "c9e7ec98-7b97-4bac-ac00-98ac77ea7db0",
   "metadata": {},
   "outputs": [
    {
     "name": "stdout",
     "output_type": "stream",
     "text": [
      "Parsed date object: 2025-10-05\n",
      "Type: <class 'datetime.date'>\n"
     ]
    }
   ],
   "source": [
    "from datetime import datetime\n",
    "\n",
    "parsed_date = datetime.strptime(today_string, \"%Y-%m-%d\").date()\n",
    "\n",
    "print(\"Parsed date object:\", parsed_date)\n",
    "print(\"Type:\", type(parsed_date))"
   ]
  },
  {
   "cell_type": "code",
   "execution_count": 11,
   "id": "69973110-71b0-43f6-81d8-b1f6abf553bb",
   "metadata": {
    "scrolled": true
   },
   "outputs": [
    {
     "name": "stdout",
     "output_type": "stream",
     "text": [
      "All processes have completed.\n"
     ]
    }
   ],
   "source": [
    "import multiprocessing as mp\n",
    "import time, random\n",
    "from datetime import datetime\n",
    "\n",
    "def worker(process_name):\n",
    "    \n",
    "    delay = random.uniform(0, 1)\n",
    "    time.sleep(delay)\n",
    "    current_time = datetime.now().strftime(\"%H:%M:%S.%f\")[:-3]\n",
    "    print(f\"{process_name} | Time: {current_time} | Slept for {delay:.3f} seconds\", flush=True)\n",
    "\n",
    "if __name__ == \"__main__\":\n",
    "    \n",
    "    p1 = mp.Process(target=worker, args=(\"Process 1\",))\n",
    "    p2 = mp.Process(target=worker, args=(\"Process 2\",))\n",
    "    p3 = mp.Process(target=worker, args=(\"Process 3\",))\n",
    "\n",
    "    \n",
    "    p1.start()\n",
    "    p2.start()\n",
    "    p3.start()\n",
    "\n",
    "    \n",
    "    p1.join()\n",
    "    p2.join()\n",
    "    p3.join()\n",
    "\n",
    "    print(\"All processes have completed.\")\n"
   ]
  },
  {
   "cell_type": "code",
   "execution_count": null,
   "id": "9735c404-2263-429a-815f-43821ec7ad3a",
   "metadata": {},
   "outputs": [],
   "source": []
  }
 ],
 "metadata": {
  "kernelspec": {
   "display_name": "Python [conda env:base] *",
   "language": "python",
   "name": "conda-base-py"
  },
  "language_info": {
   "codemirror_mode": {
    "name": "ipython",
    "version": 3
   },
   "file_extension": ".py",
   "mimetype": "text/x-python",
   "name": "python",
   "nbconvert_exporter": "python",
   "pygments_lexer": "ipython3",
   "version": "3.13.5"
  }
 },
 "nbformat": 4,
 "nbformat_minor": 5
}
